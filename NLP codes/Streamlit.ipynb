{
 "cells": [
  {
   "cell_type": "code",
   "execution_count": null,
   "id": "c5bbd09a",
   "metadata": {},
   "outputs": [],
   "source": [
    "import streamlit as st\n",
    "from streamlit_chat import message\n",
    "import tempfile\n",
    "user_api_key = st.sidebar.text_input(\n",
    "    label=\"#### Your OpenAI API key :point_down:\",\n",
    "    placeholder=\"Paste your openAI API key, sk-\",\n",
    "    type=\"password\")"
   ]
  },
  {
   "cell_type": "code",
   "execution_count": null,
   "id": "ecdd671b",
   "metadata": {},
   "outputs": [],
   "source": []
  }
 ],
 "metadata": {
  "kernelspec": {
   "display_name": "Python 3 (ipykernel)",
   "language": "python",
   "name": "python3"
  },
  "language_info": {
   "codemirror_mode": {
    "name": "ipython",
    "version": 3
   },
   "file_extension": ".py",
   "mimetype": "text/x-python",
   "name": "python",
   "nbconvert_exporter": "python",
   "pygments_lexer": "ipython3",
   "version": "3.10.0"
  }
 },
 "nbformat": 4,
 "nbformat_minor": 5
}
