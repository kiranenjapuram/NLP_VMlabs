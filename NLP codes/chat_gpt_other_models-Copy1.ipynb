{
 "cells": [
  {
   "cell_type": "code",
   "execution_count": 4,
   "id": "6c049dbb",
   "metadata": {},
   "outputs": [
    {
     "name": "stderr",
     "output_type": "stream",
     "text": [
      "C:\\Program Files\\Python310\\lib\\site-packages\\langchain\\llms\\openai.py:751: UserWarning: You are trying to use a chat model. This way of initializing it is no longer supported. Instead, please use: `from langchain.chat_models import ChatOpenAI`\n",
      "  warnings.warn(\n"
     ]
    }
   ],
   "source": [
    "from langchain.chat_models import ChatOpenAI\n",
    "from langchain.schema import HumanMessage, SystemMessage, AIMessage\n",
    "from langchain.llms import OpenAI\n",
    "from decouple import config\n",
    "import os \n",
    "#text-davinci-003\n",
    "#text-ada-001\n",
    "llm = OpenAI(model_name=\"gpt-3.5-turbo\", openai_api_key=os.getenv(\"OPENAI_API_KEY\"))\n",
    "chat = ChatOpenAI(temperature=.7, openai_api_key=config(\"OPENAI_API_KEY\"))\n"
   ]
  },
  {
   "cell_type": "code",
   "execution_count": 5,
   "id": "4b4a1eee",
   "metadata": {},
   "outputs": [],
   "source": [
    "res=chat(\n",
    "    [\n",
    "        HumanMessage(content=\"\"\"\n",
    "        how to read a csv file in openai and process it . By using prompt how to get outputs .Generate python 3 code for same.\n",
    "\n",
    "\"\"\")\n",
    "    ]\n",
    ")\n"
   ]
  },
  {
   "cell_type": "code",
   "execution_count": 6,
   "id": "8b5f489d",
   "metadata": {},
   "outputs": [
    {
     "data": {
      "text/plain": [
       "\"To read and process a CSV file in Python using OpenAI, you can use the `csv` module. Here's an example Python 3 code to accomplish that:\\n\\n```python\\nimport csv\\n\\n# Open the CSV file\\nwith open('your_file.csv', 'r') as file:\\n    # Create a CSV reader object\\n    csv_reader = csv.reader(file)\\n\\n    # Iterate over each row in the CSV file\\n    for row in csv_reader:\\n        # Process the data as required\\n        print(row)  # Example: printing each row\\n\\n# Additional processing can be done here...\\n```\\n\\nTo use OpenAI's prompt-based API for generating Python code, you can modify the above code into a prompt-based format. Here's an example prompt that generates the same Python code using OpenAI's GPT-3:\\n\\n**Prompt:** How to read and process a CSV file in Python using the `csv` module?\\n\\n**Code:**\\n```python\\nimport csv\\n\\n# Open the CSV file\\nwith open('your_file.csv', 'r') as file:\\n    # Create a CSV reader object\\n    csv_reader = csv.reader(file)\\n\\n    # Iterate over each row in the CSV file\\n    for row in csv_reader:\\n        # Process the data as required\\n        print(row)  # Example: printing each row\\n\\n# Additional processing can be done here...\\n```\\n\\nBy providing the prompt and code separately, you can make an API call to OpenAI's GPT-3 to get the generated Python code as the output.\""
      ]
     },
     "execution_count": 6,
     "metadata": {},
     "output_type": "execute_result"
    }
   ],
   "source": [
    "res.content"
   ]
  },
  {
   "cell_type": "code",
   "execution_count": 7,
   "id": "5a72524d",
   "metadata": {},
   "outputs": [
    {
     "name": "stdout",
     "output_type": "stream",
     "text": [
      "To read and process a CSV file in Python using OpenAI, you can use the `csv` module. Here's an example Python 3 code to accomplish that:\n",
      "\n",
      "```python\n",
      "import csv\n",
      "\n",
      "# Open the CSV file\n",
      "with open('your_file.csv', 'r') as file:\n",
      "    # Create a CSV reader object\n",
      "    csv_reader = csv.reader(file)\n",
      "\n",
      "    # Iterate over each row in the CSV file\n",
      "    for row in csv_reader:\n",
      "        # Process the data as required\n",
      "        print(row)  # Example: printing each row\n",
      "\n",
      "# Additional processing can be done here...\n",
      "```\n",
      "\n",
      "To use OpenAI's prompt-based API for generating Python code, you can modify the above code into a prompt-based format. Here's an example prompt that generates the same Python code using OpenAI's GPT-3:\n",
      "\n",
      "**Prompt:** How to read and process a CSV file in Python using the `csv` module?\n",
      "\n",
      "**Code:**\n",
      "```python\n",
      "import csv\n",
      "\n",
      "# Open the CSV file\n",
      "with open('your_file.csv', 'r') as file:\n",
      "    # Create a CSV reader object\n",
      "    csv_reader = csv.reader(file)\n",
      "\n",
      "    # Iterate over each row in the CSV file\n",
      "    for row in csv_reader:\n",
      "        # Process the data as required\n",
      "        print(row)  # Example: printing each row\n",
      "\n",
      "# Additional processing can be done here...\n",
      "```\n",
      "\n",
      "By providing the prompt and code separately, you can make an API call to OpenAI's GPT-3 to get the generated Python code as the output.\n"
     ]
    }
   ],
   "source": [
    "res=res.content.split(sep='\\n')\n",
    "for s in res:\n",
    "    print(s)"
   ]
  },
  {
   "cell_type": "code",
   "execution_count": 63,
   "id": "a7a361a2",
   "metadata": {},
   "outputs": [],
   "source": [
    "res=chat(\n",
    "    [\n",
    "        HumanMessage(content=\"\"\"\n",
    "        Below given is the .csv file :\n",
    "        Grade,Category,Title,Description\n",
    "SDE1,manager,Software Development Engineer I,\"We are seeking a talented Software Development Engineer to join our team. The ideal candidate should have strong programming skills and be able to contribute to the development of our software products.\"\n",
    "SDE2,engineering,Software Development Engineer II,\"We are looking for a highly skilled Software Development Engineer to work on complex software solutions. The candidate should have a deep understanding of software engineering principles and be able to design and implement scalable applications.\"\n",
    "entry/intern,customer success/support,Entry Level Customer Success Associate,\"We are hiring an Entry Level Customer Success Associate to assist our customers with product onboarding and provide technical support. This is a great opportunity for recent graduates looking to gain experience in customer success.\"\n",
    "manager,HR,HR Manager,\"As an HR Manager, you will be responsible for overseeing all aspects of human resources within our organization. This includes recruitment, employee relations, performance management, and compliance.\"\n",
    "sales,Consultant (associate or analyst),Sales Consultant,\"Join our team as a Sales Consultant and help drive revenue growth. The ideal candidate should have excellent communication skills and a strong sales background.\"\n",
    "customer support,manager,Customer Support Manager,\"We are seeking a Customer Support Manager to lead our support team and ensure customer satisfaction. The candidate should have experience in managing a customer support department.\"\n",
    "HR,engineering,HR Engineering Specialist,\"As an HR Engineering Specialist, you will be responsible for developing and implementing HR systems and processes. The ideal candidate should have a strong technical background and experience in HR systems.\"\n",
    "associate,Consultant (associate or analyst),Associate Consultant,\"Join our consulting team as an Associate Consultant and assist in delivering high-quality solutions to our clients. This role requires strong analytical and problem-solving skills.\"\n",
    "analyst,manager,Business Analyst Manager,\"As a Business Analyst Manager, you will lead a team of analysts and work closely with stakeholders to gather and analyze business requirements. The candidate should have strong analytical and leadership skills.\"\n",
    "SDE1,manager,Software Development Engineer I,\"We are seeking a talented Software Development Engineer to join our team. The ideal candidate should have strong programming skills and be able to contribute to the development of our software products.\"\n",
    "SDE2,engineering,Software Development Engineer II,\"We are looking for a highly skilled Software Development Engineer to work on complex software solutions. The candidate should have a deep understanding of software engineering principles and be able to design and implement scalable applications.\"\n",
    "entry/intern,customer success/support,Entry Level Customer Success Associate,\"We are hiring an Entry Level Customer Success Associate to assist our customers with product onboarding and provide technical support. This is a great opportunity for recent graduates looking to gain experience in customer success.\"\n",
    "manager,HR,HR Manager,\"As an HR Manager, you will be responsible for overseeing all aspects of human resources within our organization. This includes recruitment, employee relations, performance management, and compliance.\"\n",
    "sales,Consultant (associate or analyst),Sales Consultant,\"Join our team as a Sales Consultant and help drive revenue growth. The ideal candidate should have excellent communication skills and a strong sales background.\"\n",
    "customer support,manager,Customer Support Manager,\"We are seeking a Customer Support Manager to lead our support team and ensure customer satisfaction. The candidate should have experience in managing a customer support department.\"\n",
    "HR,engineering,HR Engineering Specialist,\"As an HR Engineering Specialist, you will be responsible for developing and implementing HR systems and processes. The ideal candidate should have a strong technical background and experience in HR systems.\"\n",
    "associate,Consultant (associate or analyst),Associate Consultant,\"Join our consulting team as an Associate Consultant and assist in delivering high-quality solutions to our clients. This role requires strong analytical and problem-solving skills.\"\n",
    "analyst,manager,Business Analyst Manager,\"As a Business Analyst Manager, you will lead a team of analysts and work closely with stakeholders to gather and analyze business requirements. The candidate should have strong analytical and leadership skills.\"\n",
    "SDE1,manager,Software Development Engineer I,\"We are seeking a talented Software Development Engineer to join our team. The ideal candidate should have strong programming skills and be able to contribute to the development of our software products.\"\n",
    "SDE2,engineering,Software Development Engineer II,\"We are looking for a highly skilled Software Development Engineer to work on complex software solutions. The candidate should have a deep understanding of software engineering principles and be able to design and implement scalable applications.\"\n",
    "entry/intern,customer success/support,Entry Level Customer Success Associate,\"We are hiring an Entry Level Customer Success Associate to assist our customers with product onboarding and provide technical support. This is a great opportunity for recent graduates looking to gain experience in customer success.\"\n",
    "manager,HR,HR Manager,\"As an HR Manager, you will be responsible for overseeing all aspects of human resources within our organization. This includes recruitment, employee relations, performance management, and compliance.\"\n",
    "sales,Consultant (associate or analyst),Sales Consultant,\"Join our team as a Sales Consultant and help drive revenue growth. The ideal candidate should have excellent communication skills and a strong sales background.\"\n",
    "customer support,manager,Customer Support Manager,\"We are seeking a Customer Support Manager to lead our support team and ensure customer satisfaction. The candidate should have experience in managing a customer support department.\"\n",
    "HR,engineering,HR Engineering Specialist,\"As an HR Engineering Specialist, you will be responsible for developing and implementing HR systems and processes. The ideal candidate should have a strong technical background and experience in HR systems.\"\n",
    "associate,Consultant (associate or analyst),Associate Consultant,\"Join our consulting team as an Associate Consultant and assist in delivering high-quality solutions to our clients. This role requires strong analytical and problem-solving skills.\"\n",
    "analyst,manager,Business Analyst Manager,\"As a Business Analyst Manager, you will lead a team of analysts and work closely with stakeholders to gather and analyze business requirements. The candidate should have strong analytical and leadership skills.\"\n",
    "SDE1,manager,Software Development Engineer I,\"We are seeking a talented Software Development Engineer to join our team. The ideal candidate should have strong programming skills and be able to contribute to the development of our software products.\"\n",
    "SDE2,engineering,Software Development Engineer II,\"We are looking for a highly skilled Software Development Engineer to work on complex software solutions. The candidate should have a deep understanding of software engineering principles and be able to design and implement scalable applications.\"\n",
    "entry/intern,customer success/support,Entry Level Customer Success Associate,\"We are hiring an Entry Level Customer Success Associate to assist our customers with product onboarding and provide technical support. This is a great opportunity for recent graduates looking to gain experience in customer success.\"\n",
    "manager,HR,HR Manager,\"As an HR Manager, you will be responsible for overseeing all aspects of human resources within our organization. This includes recruitment, employee relations, performance management, and compliance.\"\n",
    "sales,Consultant (associate or analyst),Sales Consultant,\"Join our team as a Sales Consultant and help drive revenue growth. The ideal candidate should have excellent communication skills and a strong sales background.\"\n",
    "customer support,manager,Customer Support Manager,\"We are seeking a Customer Support Manager to lead our support team and ensure customer satisfaction. The candidate should have experience in managing a customer support department.\"\n",
    "HR,engineering,HR Engineering Specialist,\"As an HR Engineering Specialist, you will be responsible for developing and implementing HR systems and processes. The ideal candidate should have a strong technical background and experience in HR systems.\"\n",
    "associate,Consultant (associate or analyst),Associate Consultant,\"Join our consulting team as an Associate Consultant and assist in delivering high-quality solutions to our clients. This role requires strong analytical and problem-solving skills.\"\n",
    "analyst,manager,Business Analyst Manager,\"As a Business Analyst Manager, you will lead a team of analysts and work closely with stakeholders to gather and analyze business requirements. The candidate should have strong analytical and leadership skills.\"\n",
    "SDE1,manager,Software Development Engineer I,\"We are seeking a talented Software Development Engineer to join our team. The ideal candidate should have strong programming skills and be able to contribute to the development of our software products.\"\n",
    "SDE2,engineering,Software Development Engineer II,\"We are looking for a highly skilled Software Development Engineer to work on complex software solutions. The candidate should have a deep understanding of software engineering principles and be able to design and implement scalable applications.\"\n",
    "entry/intern,customer success/support,Entry Level Customer Success Associate,\"We are hiring an Entry Level Customer Success Associate to assist our customers with product onboarding and provide technical support. This is a great opportunity for recent graduates looking to gain experience in customer success.\"\n",
    "manager,HR,HR Manager,\"As an HR Manager, you will be responsible for overseeing all aspects of human resources within our organization. This includes recruitment, employee relations, performance management, and compliance.\"\n",
    "sales,Consultant (associate or analyst),Sales Consultant,\"Join our team as a Sales Consultant and help drive revenue growth. The ideal candidate should have excellent communication skills and a strong sales background.\"\n",
    "customer support,manager,Customer Support Manager,\"We are seeking a Customer Support Manager to lead our support team and ensure customer satisfaction. The candidate should have experience in managing a customer support department.\"\n",
    "HR,engineering,HR Engineering Specialist,\"As an HR Engineering Specialist, you will be responsible for developing and implementing HR systems and processes. The ideal candidate should have a strong technical background and experience in HR systems.\"\n",
    "associate,Consultant (associate or analyst),Associate Consultant,\"Join our consulting team as an Associate Consultant and assist in delivering high-quality solutions to our clients. This role requires strong analytical and problem-solving skills.\"\n",
    "analyst,manager,Business Analyst Manager,\"As a Business Analyst Manager, you will lead a team of analysts and work closely with stakeholders to gather and analyze business requirements. The candidate should have strong analytical and leadership skills.\"\n",
    "SDE1,manager,Software Development Engineer I,\"We are seeking a talented Software Development Engineer to join our team. The ideal candidate should have strong programming skills and be able to contribute to the development of our software products.\"\n",
    "SDE2,engineering,Software Development Engineer II,\"We are looking for a highly skilled Software Development Engineer to work on complex software solutions. The candidate should have a deep understanding of software engineering principles and be able to design and implement scalable applications.\"\n",
    "entry/intern,customer success/support,Entry Level Customer Success Associate,\"We are hiring an Entry Level Customer Success Associate to assist our customers with product onboarding and provide technical support. This is a great opportunity for recent graduates looking to gain experience in customer success.\"\n",
    "manager,HR,HR Manager,\"As an HR Manager, you will be responsible for overseeing all aspects of human resources within our organization. This includes recruitment, employee relations, performance management, and compliance.\"\n",
    "sales,Consultant (associate or analyst),Sales Consultant,\"Join our team as a Sales Consultant and help drive revenue growth. The ideal candidate should have excellent communication skills and a strong sales background.\"\n",
    "customer support,manager,Customer Support Manager,\"We are seeking a Customer Support Manager to lead our support team and ensure customer satisfaction. The candidate should have experience in managing a customer support department.\"\n",
    "HR,engineering,HR Engineering Specialist,\"As an HR Engineering Specialist, you will be responsible for developing and implementing HR systems and processes. The ideal candidate should have a strong technical background and experience in HR systems.\"\n",
    "associate,Consultant (associate or analyst),Associate Consultant,\"Join our consulting team as an Associate Consultant and assist in delivering high-quality solutions to our clients. This role requires strong analytical and problem-solving skills.\"\n",
    "analyst,manager,Business Analyst Manager,\"As a Business Analyst Manager, you will lead a team of analysts and work closely with stakeholders to gather and analyze business requirements. The candidate should have strong analytical and leadership skills.\"\n",
    "SDE1,manager,Software Development Engineer I,\"We are seeking a talented Software Development Engineer to join our team. The ideal candidate should have strong programming skills and be able to contribute to the development of our software products.\"\n",
    "SDE2,engineering,Software Development Engineer II,\"We are looking for a highly skilled Software Development Engineer to work on complex software solutions. The candidate should have a deep understanding of software engineering principles and be able to design and implement scalable applications.\"\n",
    "entry/intern,customer success/support,Entry Level Customer Success Associate,\"We are hiring an Entry Level Customer Success Associate to assist our customers with product onboarding and provide technical support. This is a great opportunity for recent graduates looking to gain experience in customer success.\"\n",
    "manager,HR,HR Manager,\"As an HR Manager, you will be responsible for overseeing all aspects of human resources within our organization. This includes recruitment, employee relations, performance management, and compliance.\"\n",
    "sales,Consultant (associate or analyst),Sales Consultant,\"Join our team as a Sales Consultant and help drive revenue growth. The ideal candidate should have excellent communication skills and a strong sales background.\"\n",
    "customer support,manager,Customer Support Manager,\"We are seeking a Customer Support Manager to lead our support team and ensure customer satisfaction. The candidate should have experience in managing a customer support department.\"\n",
    "HR,engineering,HR Engineering Specialist,\"As an HR Engineering Specialist, you will be responsible for developing and implementing HR systems and processes. The ideal candidate should have a strong technical background and experience in HR systems.\"\n",
    "associate,Consultant (associate or analyst),Associate Consultant,\"Join our consulting team as an Associate Consultant and assist in delivering high-quality solutions to our clients. This role requires strong analytical and problem-solving skills.\"\n",
    "analyst,manager,Business Analyst Manager,\"As a Business Analyst Manager, you will lead a team of analysts and work closely with stakeholders to gather and analyze business requirements. The candidate should have strong analytical and leadership skills.\"\n",
    "\n",
    "Give me Description of jobs where category is HR and grade is Manager\n",
    "\n",
    "\"\"\")\n",
    "    ]\n",
    ")\n"
   ]
  },
  {
   "cell_type": "code",
   "execution_count": 64,
   "id": "49896312",
   "metadata": {},
   "outputs": [
    {
     "name": "stdout",
     "output_type": "stream",
     "text": [
      "The jobs with the category \"HR\" and grade \"Manager\" have the following descriptions:\n",
      "\n",
      "1. HR Manager: As an HR Manager, you will be responsible for overseeing all aspects of human resources within our organization. This includes recruitment, employee relations, performance management, and compliance.\n",
      "\n",
      "2. HR Engineering Specialist: As an HR Engineering Specialist, you will be responsible for developing and implementing HR systems and processes. The ideal candidate should have a strong technical background and experience in HR systems.\n"
     ]
    }
   ],
   "source": [
    "res=res.content.split(sep='\\n')\n",
    "for s in res:\n",
    "    print(s)"
   ]
  },
  {
   "cell_type": "code",
   "execution_count": 5,
   "id": "9d7d63ff",
   "metadata": {},
   "outputs": [
    {
     "name": "stdout",
     "output_type": "stream",
     "text": [
      "Collecting python-dotenv\n",
      "  Downloading python_dotenv-1.0.0-py3-none-any.whl (19 kB)\n",
      "Installing collected packages: python-dotenv\n",
      "Successfully installed python-dotenv-1.0.0\n",
      "Note: you may need to restart the kernel to use updated packages.\n"
     ]
    },
    {
     "name": "stderr",
     "output_type": "stream",
     "text": [
      "WARNING: You are using pip version 21.2.3; however, version 23.2 is available.\n",
      "You should consider upgrading via the 'C:\\Program Files\\Python310\\python.exe -m pip install --upgrade pip' command.\n"
     ]
    }
   ],
   "source": [
    "pip install python-dotenv"
   ]
  },
  {
   "cell_type": "code",
   "execution_count": 2,
   "id": "986a932f",
   "metadata": {},
   "outputs": [],
   "source": [
    "%load_ext dotenv"
   ]
  },
  {
   "cell_type": "code",
   "execution_count": 3,
   "id": "5930a61e",
   "metadata": {},
   "outputs": [],
   "source": [
    "%dotenv"
   ]
  },
  {
   "cell_type": "code",
   "execution_count": null,
   "id": "12cdb038",
   "metadata": {},
   "outputs": [],
   "source": []
  }
 ],
 "metadata": {
  "kernelspec": {
   "display_name": "Python 3 (ipykernel)",
   "language": "python",
   "name": "python3"
  },
  "language_info": {
   "codemirror_mode": {
    "name": "ipython",
    "version": 3
   },
   "file_extension": ".py",
   "mimetype": "text/x-python",
   "name": "python",
   "nbconvert_exporter": "python",
   "pygments_lexer": "ipython3",
   "version": "3.10.0"
  }
 },
 "nbformat": 4,
 "nbformat_minor": 5
}
