{
 "cells": [
  {
   "cell_type": "code",
   "execution_count": 1,
   "id": "984a3385-f145-4d58-baaa-f5728a55bb59",
   "metadata": {},
   "outputs": [],
   "source": [
    "openai_api_key='sk-q'"
   ]
  },
  {
   "cell_type": "code",
   "execution_count": 2,
   "id": "44f8dd36-9f84-4a75-9db7-49463bfca361",
   "metadata": {},
   "outputs": [
    {
     "name": "stderr",
     "output_type": "stream",
     "text": [
      "C:\\Program Files\\Python310\\lib\\site-packages\\langchain\\llms\\openai.py:173: UserWarning: You are trying to use a chat model. This way of initializing it is no longer supported. Instead, please use: `from langchain.chat_models import ChatOpenAI`\n",
      "  warnings.warn(\n",
      "C:\\Program Files\\Python310\\lib\\site-packages\\langchain\\llms\\openai.py:751: UserWarning: You are trying to use a chat model. This way of initializing it is no longer supported. Instead, please use: `from langchain.chat_models import ChatOpenAI`\n",
      "  warnings.warn(\n"
     ]
    }
   ],
   "source": [
    "from langchain.chat_models import ChatOpenAI\n",
    "from langchain.schema import HumanMessage, SystemMessage, AIMessage\n",
    "from langchain.llms import OpenAI\n",
    "#text-davinci-003\n",
    "#text-ada-001\n",
    "llm = OpenAI(model_name=\"gpt-3.5-turbo\", openai_api_key=openai_api_key)\n",
    "\n"
   ]
  },
  {
   "cell_type": "code",
   "execution_count": 3,
   "id": "183a7715-e491-49c1-b771-53c4c0da71fc",
   "metadata": {},
   "outputs": [
    {
     "data": {
      "text/plain": [
       "'The day that comes after Friday is Saturday.'"
      ]
     },
     "execution_count": 3,
     "metadata": {},
     "output_type": "execute_result"
    }
   ],
   "source": [
    "my_text = \"What day comes after Friday?\"\n",
    "res=llm(my_text)\n",
    "res"
   ]
  },
  {
   "cell_type": "code",
   "execution_count": 20,
   "id": "4d01fe33-767a-455f-a811-2d5e1816695b",
   "metadata": {},
   "outputs": [
    {
     "data": {
      "text/plain": [
       "AIMessage(content='Expert 1: Step 1 - Calculate the average duration of a golf game and a football match. \\n\\nExpert 2: Step 1 - Gather data on the average number of calories burned during a golf game and a football match. \\n\\nExpert 3: Step 1 - Research the intensity and physical demands of golf and football to determine the potential calorie expenditure. \\n\\nExpert 1: Step 2 - Determine the average number of calories burned per hour during a golf game. \\n\\nExpert 2: Step 2 - Determine the average number of calories burned per hour during a football match. \\n\\nExpert 3: Step 2 - Analyze the muscles used and the amount of physical activity required in golf compared to football to estimate calorie expenditure. \\n\\nExpert 1: Step 3 - Compare the average number of calories burned per hour in golf to the average number burned per hour in football. \\n\\nExpert 2: Step 3 - Analyze the data on calorie expenditure during golf and football to determine if there is a significant difference. \\n\\nExpert 3: Step 3 - Consider additional factors such as body weight, intensity level, and individual effort to determine if golf generally burns more calories than football. \\n\\nExpert 1: Step 4 - Assess the reliability and credibility of the data used in the previous steps to ensure accurate comparison. \\n\\nExpert 2: Step 4 - Take into account any variations in playing style or position that may affect the calorie expenditure in football. \\n\\nExpert 3: Step 4 - Analyze the results of studies or experiments conducted on calorie expenditure during golf and football to validate the conclusions. \\n\\nExpert 1: Step 5 - Evaluate the impact of other factors such as terrain, weather conditions, and player skill level on calorie expenditure in both sports. \\n\\nExpert 2: Step 5 - Consider the metabolic rate and heart rate during a football match to understand the overall calorie burn. \\n\\nExpert 3: Step 5 - Compare the overall physical demands and energy requirements in golf and football to finalize the conclusion. \\n\\nExpert 1: Step 6 - Reach a conclusion based on the comparison of calorie expenditure in golf and football, taking into account all the factors considered. \\n\\nExpert 2: Step 6 - Discuss the findings with other experts and collectively agree on whether golf generally spends more calories than playing football. \\n\\nExpert 3: Step 6 - Present the findings to the group and discuss whether the conclusion supports the initial hypothesis that golf burns more calories than football.', additional_kwargs={}, example=False)"
      ]
     },
     "execution_count": 20,
     "metadata": {},
     "output_type": "execute_result"
    }
   ],
   "source": [
    "\n",
    "chat = ChatOpenAI(model_name=\"gpt-3.5-turbo\",temperature=.7, openai_api_key=openai_api_key)\n",
    "res=chat(\n",
    "    [\n",
    "        HumanMessage(content=\"imagine three different experts are answering the provided question ; All experts will write down one step of their thinking , then share it with the group. Then all experts will go on to the next step . If any experts realize they are wrong when information is shared by others they will leave immediately  or if multiple experts reach the same conclusion or same next steps, one of them will leave while another continues . Question :  Does golf spends more calorie than playing football \")\n",
    "    ]\n",
    ")\n",
    "res"
   ]
  },
  {
   "cell_type": "code",
   "execution_count": 4,
   "id": "5a6ab121-c4a6-4e4a-8f74-d14fd9c50cc2",
   "metadata": {},
   "outputs": [],
   "source": [
    "from langchain.embeddings import OpenAIEmbeddings\n",
    "\n",
    "embeddings = OpenAIEmbeddings(openai_api_key=openai_api_key)\n"
   ]
  },
  {
   "cell_type": "code",
   "execution_count": 5,
   "id": "b0c171bf-c725-4c8e-82f0-7e4ecc91cc67",
   "metadata": {},
   "outputs": [
    {
     "data": {
      "text/plain": [
       "(1536,\n",
       " '---',\n",
       " [0.0060974895022809505,\n",
       "  -0.011327147483825684,\n",
       "  -0.005440139211714268,\n",
       "  -0.02968761697411537,\n",
       "  -0.01689033769071102])"
      ]
     },
     "execution_count": 5,
     "metadata": {},
     "output_type": "execute_result"
    }
   ],
   "source": [
    "text_embedding = embeddings.embed_query(my_text)\n",
    "len(text_embedding),\"---\",text_embedding[:5]"
   ]
  },
  {
   "cell_type": "code",
   "execution_count": null,
   "id": "e5eeb234-eb07-4f38-8004-bf4bd9831368",
   "metadata": {},
   "outputs": [],
   "source": []
  },
  {
   "cell_type": "code",
   "execution_count": 6,
   "id": "8f3e51e2-3266-444d-b502-c82576bca513",
   "metadata": {},
   "outputs": [],
   "source": [
    "import pickle\n",
    "filename = \"embedding.pickle\"\n",
    "with open(filename, 'wb') as file:\n",
    "    pickle.dump(text_embedding, file)\n",
    "\n"
   ]
  },
  {
   "cell_type": "code",
   "execution_count": null,
   "id": "4fb2c3fb-31a7-4f35-9b26-d035799c16aa",
   "metadata": {},
   "outputs": [],
   "source": []
  },
  {
   "cell_type": "code",
   "execution_count": 8,
   "id": "d969ca78-66fc-4dc3-9d8a-08335d9165b6",
   "metadata": {},
   "outputs": [
    {
     "name": "stdout",
     "output_type": "stream",
     "text": [
      "Final Prompt: \n",
      "I really want to travel to Rome. What should I do there?\n",
      "\n",
      "Respond in one short sentence\n",
      "\n",
      "-----------\n"
     ]
    }
   ],
   "source": [
    "from langchain import PromptTemplate\n",
    "\n",
    "template = \"\"\"\n",
    "I really want to travel to {location}. What should I do there?\n",
    "\n",
    "Respond in one short sentence\n",
    "\"\"\"\n",
    "\n",
    "prompt = PromptTemplate(\n",
    "    input_variables=[\"location\"],\n",
    "    template=template,\n",
    ")\n",
    "\n",
    "final_prompt = prompt.format(location='Rome')\n",
    "\n",
    "print (f\"Final Prompt: {final_prompt}\")\n",
    "print (\"-----------\")\n"
   ]
  },
  {
   "cell_type": "code",
   "execution_count": null,
   "id": "25b74c72-4dd3-4988-ab14-fe0487b0476c",
   "metadata": {},
   "outputs": [],
   "source": []
  },
  {
   "cell_type": "code",
   "execution_count": null,
   "id": "15fd7a62-b600-4da8-938c-c7fe846a2e6c",
   "metadata": {},
   "outputs": [],
   "source": []
  },
  {
   "cell_type": "code",
   "execution_count": null,
   "id": "d9177f6b-19df-4aa3-ac9e-2a7a8e52c388",
   "metadata": {},
   "outputs": [],
   "source": []
  },
  {
   "cell_type": "code",
   "execution_count": null,
   "id": "97308ae5-1524-431b-a1ec-dcd6f70faca1",
   "metadata": {},
   "outputs": [],
   "source": []
  }
 ],
 "metadata": {
  "kernelspec": {
   "display_name": "Python 3 (ipykernel)",
   "language": "python",
   "name": "python3"
  },
  "language_info": {
   "codemirror_mode": {
    "name": "ipython",
    "version": 3
   },
   "file_extension": ".py",
   "mimetype": "text/x-python",
   "name": "python",
   "nbconvert_exporter": "python",
   "pygments_lexer": "ipython3",
   "version": "3.10.0"
  }
 },
 "nbformat": 4,
 "nbformat_minor": 5
}
