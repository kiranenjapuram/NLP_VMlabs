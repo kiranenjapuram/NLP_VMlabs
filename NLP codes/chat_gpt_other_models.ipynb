{
 "cells": [
  {
   "cell_type": "code",
   "execution_count": 52,
   "id": "b3b26b9e",
   "metadata": {},
   "outputs": [],
   "source": [
    "from langchain.chat_models import ChatOpenAI\n",
    "from langchain.schema import HumanMessage, SystemMessage, AIMessage\n",
    "from langchain.llms import OpenAI\n",
    "from decouple import config\n",
    "import os \n",
    "#text-davinci-003\n",
    "#text-ada-001\n",
    "llm = OpenAI(model_name=\"gpt-3.5-turbo\", openai_api_key=os.getenv(\"OPENAI_API_KEY\"))\n",
    "chat = ChatOpenAI(temperature=.7, openai_api_key=config(\"OPENAI_API_KEY\"))\n"
   ]
  },
  {
   "cell_type": "code",
   "execution_count": 53,
   "id": "f2347cdb",
   "metadata": {},
   "outputs": [],
   "source": [
    "res=chat(\n",
    "    [\n",
    "        HumanMessage(content=\"\"\"\n",
    "        Give me dummy data of 100 jobs with 20 category each for Graduate Job Classification where columns are grade,category,title and description.\n",
    "Store it in .csv file. \n",
    "Example of Grade: SDE1,SDE2,entry/intern,manager,sales,customer support,HR,associate,analyst.\n",
    "Example for Category:  manager,engineering, customer success/support,HR,Consultant (associate or analyst)\n",
    "\n",
    "\"\"\")\n",
    "    ]\n",
    ")\n"
   ]
  },
  {
   "cell_type": "code",
   "execution_count": 50,
   "id": "5cd0ad4d",
   "metadata": {},
   "outputs": [
    {
     "data": {
      "text/plain": [
       "'To get dummy data from ChatGPT, you can use the OpenAI API to generate conversations with the model. Here are the steps to access and use the generated data for training:\\n\\n1. Set up an OpenAI API account and obtain your API key.\\n\\n2. Install the OpenAI Python library by running `pip install openai` in your terminal.\\n\\n3. Import the library and set up your API key:\\n```python\\nimport openai\\n\\nopenai.api_key = \\'YOUR_API_KEY\\'\\n```\\n\\n4. Use the `openai.Completion` class to generate conversations with the model. You can provide a prompt and a list of messages as input to simulate a conversation. Each message in the list should have a \\'role\\' (either \"system\", \"user\", or \"assistant\") and \\'content\\' (the text of the message). For example:\\n```python\\nresponse = openai.Completion.create(\\n  engine=\"text-davinci-003\",\\n  prompt=\"\",\\n  messages=[\\n        {\"role\": \"system\", \"content\": \"You are a helpful assistant.\"},\\n        {\"role\": \"user\", \"content\": \"Who won the world series in 2020?\"},\\n        {\"role\": \"assistant\", \"content\": \"The Los Angeles Dodgers won the World Series in 2020.\"},\\n        {\"role\": \"user\", \"content\": \"Where was it played?\"}\\n    ]\\n)\\n```\\n\\n5. Access the assistant\\'s reply from the response:\\n```python\\nassistant_reply = response.choices[0].message.content\\n```\\n\\nYou can loop over this process to generate multiple conversations and collect the assistant\\'s replies. Make sure to save the conversations and the corresponding assistant replies for training.\\n\\nNote that the OpenAI API has usage limits, so be mindful of the number of requests you make and the amount of data generated. Also, remember to follow OpenAI\\'s guidelines and terms of service when using the API and generated data.'"
      ]
     },
     "execution_count": 50,
     "metadata": {},
     "output_type": "execute_result"
    }
   ],
   "source": [
    "res.content"
   ]
  },
  {
   "cell_type": "code",
   "execution_count": 54,
   "id": "fb14b3c0",
   "metadata": {},
   "outputs": [
    {
     "name": "stdout",
     "output_type": "stream",
     "text": [
      "Here is an example of dummy data for 100 jobs with 20 categories each for Graduate Job Classification:\n",
      "\n",
      "Grade,Category,Title,Description\n",
      "SDE1,manager,Software Development Engineer I,\"We are seeking a talented Software Development Engineer to join our team. The ideal candidate should have strong programming skills and be able to contribute to the development of our software products.\"\n",
      "SDE2,engineering,Software Development Engineer II,\"We are looking for a highly skilled Software Development Engineer to work on complex software solutions. The candidate should have a deep understanding of software engineering principles and be able to design and implement scalable applications.\"\n",
      "entry/intern,customer success/support,Entry Level Customer Success Associate,\"We are hiring an Entry Level Customer Success Associate to assist our customers with product onboarding and provide technical support. This is a great opportunity for recent graduates looking to gain experience in customer success.\"\n",
      "manager,HR,HR Manager,\"As an HR Manager, you will be responsible for overseeing all aspects of human resources within our organization. This includes recruitment, employee relations, performance management, and compliance.\"\n",
      "sales,Consultant (associate or analyst),Sales Consultant,\"Join our team as a Sales Consultant and help drive revenue growth. The ideal candidate should have excellent communication skills and a strong sales background.\"\n",
      "customer support,manager,Customer Support Manager,\"We are seeking a Customer Support Manager to lead our support team and ensure customer satisfaction. The candidate should have experience in managing a customer support department.\"\n",
      "HR,engineering,HR Engineering Specialist,\"As an HR Engineering Specialist, you will be responsible for developing and implementing HR systems and processes. The ideal candidate should have a strong technical background and experience in HR systems.\"\n",
      "associate,Consultant (associate or analyst),Associate Consultant,\"Join our consulting team as an Associate Consultant and assist in delivering high-quality solutions to our clients. This role requires strong analytical and problem-solving skills.\"\n",
      "analyst,manager,Business Analyst Manager,\"As a Business Analyst Manager, you will lead a team of analysts and work closely with stakeholders to gather and analyze business requirements. The candidate should have strong analytical and leadership skills.\"\n",
      "SDE1,manager,Software Development Engineer I,\"We are seeking a talented Software Development Engineer to join our team. The ideal candidate should have strong programming skills and be able to contribute to the development of our software products.\"\n",
      "SDE2,engineering,Software Development Engineer II,\"We are looking for a highly skilled Software Development Engineer to work on complex software solutions. The candidate should have a deep understanding of software engineering principles and be able to design and implement scalable applications.\"\n",
      "entry/intern,customer success/support,Entry Level Customer Success Associate,\"We are hiring an Entry Level Customer Success Associate to assist our customers with product onboarding and provide technical support. This is a great opportunity for recent graduates looking to gain experience in customer success.\"\n",
      "manager,HR,HR Manager,\"As an HR Manager, you will be responsible for overseeing all aspects of human resources within our organization. This includes recruitment, employee relations, performance management, and compliance.\"\n",
      "sales,Consultant (associate or analyst),Sales Consultant,\"Join our team as a Sales Consultant and help drive revenue growth. The ideal candidate should have excellent communication skills and a strong sales background.\"\n",
      "customer support,manager,Customer Support Manager,\"We are seeking a Customer Support Manager to lead our support team and ensure customer satisfaction. The candidate should have experience in managing a customer support department.\"\n",
      "HR,engineering,HR Engineering Specialist,\"As an HR Engineering Specialist, you will be responsible for developing and implementing HR systems and processes. The ideal candidate should have a strong technical background and experience in HR systems.\"\n",
      "associate,Consultant (associate or analyst),Associate Consultant,\"Join our consulting team as an Associate Consultant and assist in delivering high-quality solutions to our clients. This role requires strong analytical and problem-solving skills.\"\n",
      "analyst,manager,Business Analyst Manager,\"As a Business Analyst Manager, you will lead a team of analysts and work closely with stakeholders to gather and analyze business requirements. The candidate should have strong analytical and leadership skills.\"\n",
      "SDE1,manager,Software Development Engineer I,\"We are seeking a talented Software Development Engineer to join our team. The ideal candidate should have strong programming skills and be able to contribute to the development of our software products.\"\n",
      "SDE2,engineering,Software Development Engineer II,\"We are looking for a highly skilled Software Development Engineer to work on complex software solutions. The candidate should have a deep understanding of software engineering principles and be able to design and implement scalable applications.\"\n",
      "entry/intern,customer success/support,Entry Level Customer Success Associate,\"We are hiring an Entry Level Customer Success Associate to assist our customers with product onboarding and provide technical support. This is a great opportunity for recent graduates looking to gain experience in customer success.\"\n",
      "manager,HR,HR Manager,\"As an HR Manager, you will be responsible for overseeing all aspects of human resources within our organization. This includes recruitment, employee relations, performance management, and compliance.\"\n",
      "sales,Consultant (associate or analyst),Sales Consultant,\"Join our team as a Sales Consultant and help drive revenue growth. The ideal candidate should have excellent communication skills and a strong sales background.\"\n",
      "customer support,manager,Customer Support Manager,\"We are seeking a Customer Support Manager to lead our support team and ensure customer satisfaction. The candidate should have experience in managing a customer support department.\"\n",
      "HR,engineering,HR Engineering Specialist,\"As an HR Engineering Specialist, you will be responsible for developing and implementing HR systems and processes. The ideal candidate should have a strong technical background and experience in HR systems.\"\n",
      "associate,Consultant (associate or analyst),Associate Consultant,\"Join our consulting team as an Associate Consultant and assist in delivering high-quality solutions to our clients. This role requires strong analytical and problem-solving skills.\"\n",
      "analyst,manager,Business Analyst Manager,\"As a Business Analyst Manager, you will lead a team of analysts and work closely with stakeholders to gather and analyze business requirements. The candidate should have strong analytical and leadership skills.\"\n",
      "SDE1,manager,Software Development Engineer I,\"We are seeking a talented Software Development Engineer to join our team. The ideal candidate should have strong programming skills and be able to contribute to the development of our software products.\"\n",
      "SDE2,engineering,Software Development Engineer II,\"We are looking for a highly skilled Software Development Engineer to work on complex software solutions. The candidate should have a deep understanding of software engineering principles and be able to design and implement scalable applications.\"\n",
      "entry/intern,customer success/support,Entry Level Customer Success Associate,\"We are hiring an Entry Level Customer Success Associate to assist our customers with product onboarding and provide technical support. This is a great opportunity for recent graduates looking to gain experience in customer success.\"\n",
      "manager,HR,HR Manager,\"As an HR Manager, you will be responsible for overseeing all aspects of human resources within our organization. This includes recruitment, employee relations, performance management, and compliance.\"\n",
      "sales,Consultant (associate or analyst),Sales Consultant,\"Join our team as a Sales Consultant and help drive revenue growth. The ideal candidate should have excellent communication skills and a strong sales background.\"\n",
      "customer support,manager,Customer Support Manager,\"We are seeking a Customer Support Manager to lead our support team and ensure customer satisfaction. The candidate should have experience in managing a customer support department.\"\n",
      "HR,engineering,HR Engineering Specialist,\"As an HR Engineering Specialist, you will be responsible for developing and implementing HR systems and processes. The ideal candidate should have a strong technical background and experience in HR systems.\"\n",
      "associate,Consultant (associate or analyst),Associate Consultant,\"Join our consulting team as an Associate Consultant and assist in delivering high-quality solutions to our clients. This role requires strong analytical and problem-solving skills.\"\n",
      "analyst,manager,Business Analyst Manager,\"As a Business Analyst Manager, you will lead a team of analysts and work closely with stakeholders to gather and analyze business requirements. The candidate should have strong analytical and leadership skills.\"\n",
      "SDE1,manager,Software Development Engineer I,\"We are seeking a talented Software Development Engineer to join our team. The ideal candidate should have strong programming skills and be able to contribute to the development of our software products.\"\n",
      "SDE2,engineering,Software Development Engineer II,\"We are looking for a highly skilled Software Development Engineer to work on complex software solutions. The candidate should have a deep understanding of software engineering principles and be able to design and implement scalable applications.\"\n",
      "entry/intern,customer success/support,Entry Level Customer Success Associate,\"We are hiring an Entry Level Customer Success Associate to assist our customers with product onboarding and provide technical support. This is a great opportunity for recent graduates looking to gain experience in customer success.\"\n",
      "manager,HR,HR Manager,\"As an HR Manager, you will be responsible for overseeing all aspects of human resources within our organization. This includes recruitment, employee relations, performance management, and compliance.\"\n",
      "sales,Consultant (associate or analyst),Sales Consultant,\"Join our team as a Sales Consultant and help drive revenue growth. The ideal candidate should have excellent communication skills and a strong sales background.\"\n",
      "customer support,manager,Customer Support Manager,\"We are seeking a Customer Support Manager to lead our support team and ensure customer satisfaction. The candidate should have experience in managing a customer support department.\"\n",
      "HR,engineering,HR Engineering Specialist,\"As an HR Engineering Specialist, you will be responsible for developing and implementing HR systems and processes. The ideal candidate should have a strong technical background and experience in HR systems.\"\n",
      "associate,Consultant (associate or analyst),Associate Consultant,\"Join our consulting team as an Associate Consultant and assist in delivering high-quality solutions to our clients. This role requires strong analytical and problem-solving skills.\"\n",
      "analyst,manager,Business Analyst Manager,\"As a Business Analyst Manager, you will lead a team of analysts and work closely with stakeholders to gather and analyze business requirements. The candidate should have strong analytical and leadership skills.\"\n",
      "SDE1,manager,Software Development Engineer I,\"We are seeking a talented Software Development Engineer to join our team. The ideal candidate should have strong programming skills and be able to contribute to the development of our software products.\"\n",
      "SDE2,engineering,Software Development Engineer II,\"We are looking for a highly skilled Software Development Engineer to work on complex software solutions. The candidate should have a deep understanding of software engineering principles and be able to design and implement scalable applications.\"\n",
      "entry/intern,customer success/support,Entry Level Customer Success Associate,\"We are hiring an Entry Level Customer Success Associate to assist our customers with product onboarding and provide technical support. This is a great opportunity for recent graduates looking to gain experience in customer success.\"\n",
      "manager,HR,HR Manager,\"As an HR Manager, you will be responsible for overseeing all aspects of human resources within our organization. This includes recruitment, employee relations, performance management, and compliance.\"\n",
      "sales,Consultant (associate or analyst),Sales Consultant,\"Join our team as a Sales Consultant and help drive revenue growth. The ideal candidate should have excellent communication skills and a strong sales background.\"\n",
      "customer support,manager,Customer Support Manager,\"We are seeking a Customer Support Manager to lead our support team and ensure customer satisfaction. The candidate should have experience in managing a customer support department.\"\n",
      "HR,engineering,HR Engineering Specialist,\"As an HR Engineering Specialist, you will be responsible for developing and implementing HR systems and processes. The ideal candidate should have a strong technical background and experience in HR systems.\"\n",
      "associate,Consultant (associate or analyst),Associate Consultant,\"Join our consulting team as an Associate Consultant and assist in delivering high-quality solutions to our clients. This role requires strong analytical and problem-solving skills.\"\n",
      "analyst,manager,Business Analyst Manager,\"As a Business Analyst Manager, you will lead a team of analysts and work closely with stakeholders to gather and analyze business requirements. The candidate should have strong analytical and leadership skills.\"\n",
      "SDE1,manager,Software Development Engineer I,\"We are seeking a talented Software Development Engineer to join our team. The ideal candidate should have strong programming skills and be able to contribute to the development of our software products.\"\n",
      "SDE2,engineering,Software Development Engineer II,\"We are looking for a highly skilled Software Development Engineer to work on complex software solutions. The candidate should have a deep understanding of software engineering principles and be able to design and implement scalable applications.\"\n",
      "entry/intern,customer success/support,Entry Level Customer Success Associate,\"We are hiring an Entry Level Customer Success Associate to assist our customers with product onboarding and provide technical support. This is a great opportunity for recent graduates looking to gain experience in customer success.\"\n",
      "manager,HR,HR Manager,\"As an HR Manager, you will be responsible for overseeing all aspects of human resources within our organization. This includes recruitment, employee relations, performance management, and compliance.\"\n",
      "sales,Consultant (associate or analyst),Sales Consultant,\"Join our team as a Sales Consultant and help drive revenue growth. The ideal candidate should have excellent communication skills and a strong sales background.\"\n",
      "customer support,manager,Customer Support Manager,\"We are seeking a Customer Support Manager to lead our support team and ensure customer satisfaction. The candidate should have experience in managing a customer support department.\"\n",
      "HR,engineering,HR Engineering Specialist,\"As an HR Engineering Specialist, you will be responsible for developing and implementing HR systems and processes. The ideal candidate should have a strong technical background and experience in HR systems.\"\n",
      "associate,Consultant (associate or analyst),Associate Consultant,\"Join our consulting team as an Associate Consultant and assist in delivering high-quality solutions to our clients. This role requires strong analytical and problem-solving skills.\"\n",
      "analyst,manager,Business Analyst Manager,\"As a Business Analyst Manager, you will lead a team of analysts and work closely with stakeholders to gather and analyze business requirements. The candidate should have strong analytical and leadership skills.\"\n",
      "\n",
      "Please note that this is just an example and the data provided is randomly generated. You can save this data in a .csv file by copying the above data into a spreadsheet program (e.g., Microsoft Excel, Google Sheets) and then saving it as a .csv file.\n"
     ]
    }
   ],
   "source": [
    "res=res.content.split(sep='\\n')\n",
    "for s in res:\n",
    "    print(s)"
   ]
  },
  {
   "cell_type": "code",
   "execution_count": 65,
   "id": "419cf55b",
   "metadata": {},
   "outputs": [],
   "source": [
    "res=chat(\n",
    "    [\n",
    "        HumanMessage(content=\"\"\"\n",
    "        Below given is the .csv file :\n",
    "        Grade,Category,Title,Description\n",
    "SDE1,manager,Software Development Engineer I,\"We are seeking a talented Software Development Engineer to join our team. The ideal candidate should have strong programming skills and be able to contribute to the development of our software products.\"\n",
    "SDE2,engineering,Software Development Engineer II,\"We are looking for a highly skilled Software Development Engineer to work on complex software solutions. The candidate should have a deep understanding of software engineering principles and be able to design and implement scalable applications.\"\n",
    "entry/intern,customer success/support,Entry Level Customer Success Associate,\"We are hiring an Entry Level Customer Success Associate to assist our customers with product onboarding and provide technical support. This is a great opportunity for recent graduates looking to gain experience in customer success.\"\n",
    "manager,HR,HR Manager,\"As an HR Manager, you will be responsible for overseeing all aspects of human resources within our organization. This includes recruitment, employee relations, performance management, and compliance.\"\n",
    "sales,Consultant (associate or analyst),Sales Consultant,\"Join our team as a Sales Consultant and help drive revenue growth. The ideal candidate should have excellent communication skills and a strong sales background.\"\n",
    "customer support,manager,Customer Support Manager,\"We are seeking a Customer Support Manager to lead our support team and ensure customer satisfaction. The candidate should have experience in managing a customer support department.\"\n",
    "HR,engineering,HR Engineering Specialist,\"As an HR Engineering Specialist, you will be responsible for developing and implementing HR systems and processes. The ideal candidate should have a strong technical background and experience in HR systems.\"\n",
    "associate,Consultant (associate or analyst),Associate Consultant,\"Join our consulting team as an Associate Consultant and assist in delivering high-quality solutions to our clients. This role requires strong analytical and problem-solving skills.\"\n",
    "analyst,manager,Business Analyst Manager,\"As a Business Analyst Manager, you will lead a team of analysts and work closely with stakeholders to gather and analyze business requirements. The candidate should have strong analytical and leadership skills.\"\n",
    "SDE1,manager,Software Development Engineer I,\"We are seeking a talented Software Development Engineer to join our team. The ideal candidate should have strong programming skills and be able to contribute to the development of our software products.\"\n",
    "SDE2,engineering,Software Development Engineer II,\"We are looking for a highly skilled Software Development Engineer to work on complex software solutions. The candidate should have a deep understanding of software engineering principles and be able to design and implement scalable applications.\"\n",
    "entry/intern,customer success/support,Entry Level Customer Success Associate,\"We are hiring an Entry Level Customer Success Associate to assist our customers with product onboarding and provide technical support. This is a great opportunity for recent graduates looking to gain experience in customer success.\"\n",
    "manager,HR,HR Manager,\"As an HR Manager, you will be responsible for overseeing all aspects of human resources within our organization. This includes recruitment, employee relations, performance management, and compliance.\"\n",
    "sales,Consultant (associate or analyst),Sales Consultant,\"Join our team as a Sales Consultant and help drive revenue growth. The ideal candidate should have excellent communication skills and a strong sales background.\"\n",
    "customer support,manager,Customer Support Manager,\"We are seeking a Customer Support Manager to lead our support team and ensure customer satisfaction. The candidate should have experience in managing a customer support department.\"\n",
    "HR,engineering,HR Engineering Specialist,\"As an HR Engineering Specialist, you will be responsible for developing and implementing HR systems and processes. The ideal candidate should have a strong technical background and experience in HR systems.\"\n",
    "associate,Consultant (associate or analyst),Associate Consultant,\"Join our consulting team as an Associate Consultant and assist in delivering high-quality solutions to our clients. This role requires strong analytical and problem-solving skills.\"\n",
    "analyst,manager,Business Analyst Manager,\"As a Business Analyst Manager, you will lead a team of analysts and work closely with stakeholders to gather and analyze business requirements. The candidate should have strong analytical and leadership skills.\"\n",
    "SDE1,manager,Software Development Engineer I,\"We are seeking a talented Software Development Engineer to join our team. The ideal candidate should have strong programming skills and be able to contribute to the development of our software products.\"\n",
    "SDE2,engineering,Software Development Engineer II,\"We are looking for a highly skilled Software Development Engineer to work on complex software solutions. The candidate should have a deep understanding of software engineering principles and be able to design and implement scalable applications.\"\n",
    "entry/intern,customer success/support,Entry Level Customer Success Associate,\"We are hiring an Entry Level Customer Success Associate to assist our customers with product onboarding and provide technical support. This is a great opportunity for recent graduates looking to gain experience in customer success.\"\n",
    "manager,HR,HR Manager,\"As an HR Manager, you will be responsible for overseeing all aspects of human resources within our organization. This includes recruitment, employee relations, performance management, and compliance.\"\n",
    "sales,Consultant (associate or analyst),Sales Consultant,\"Join our team as a Sales Consultant and help drive revenue growth. The ideal candidate should have excellent communication skills and a strong sales background.\"\n",
    "customer support,manager,Customer Support Manager,\"We are seeking a Customer Support Manager to lead our support team and ensure customer satisfaction. The candidate should have experience in managing a customer support department.\"\n",
    "HR,engineering,HR Engineering Specialist,\"As an HR Engineering Specialist, you will be responsible for developing and implementing HR systems and processes. The ideal candidate should have a strong technical background and experience in HR systems.\"\n",
    "associate,Consultant (associate or analyst),Associate Consultant,\"Join our consulting team as an Associate Consultant and assist in delivering high-quality solutions to our clients. This role requires strong analytical and problem-solving skills.\"\n",
    "analyst,manager,Business Analyst Manager,\"As a Business Analyst Manager, you will lead a team of analysts and work closely with stakeholders to gather and analyze business requirements. The candidate should have strong analytical and leadership skills.\"\n",
    "SDE1,manager,Software Development Engineer I,\"We are seeking a talented Software Development Engineer to join our team. The ideal candidate should have strong programming skills and be able to contribute to the development of our software products.\"\n",
    "SDE2,engineering,Software Development Engineer II,\"We are looking for a highly skilled Software Development Engineer to work on complex software solutions. The candidate should have a deep understanding of software engineering principles and be able to design and implement scalable applications.\"\n",
    "entry/intern,customer success/support,Entry Level Customer Success Associate,\"We are hiring an Entry Level Customer Success Associate to assist our customers with product onboarding and provide technical support. This is a great opportunity for recent graduates looking to gain experience in customer success.\"\n",
    "manager,HR,HR Manager,\"As an HR Manager, you will be responsible for overseeing all aspects of human resources within our organization. This includes recruitment, employee relations, performance management, and compliance.\"\n",
    "sales,Consultant (associate or analyst),Sales Consultant,\"Join our team as a Sales Consultant and help drive revenue growth. The ideal candidate should have excellent communication skills and a strong sales background.\"\n",
    "customer support,manager,Customer Support Manager,\"We are seeking a Customer Support Manager to lead our support team and ensure customer satisfaction. The candidate should have experience in managing a customer support department.\"\n",
    "HR,engineering,HR Engineering Specialist,\"As an HR Engineering Specialist, you will be responsible for developing and implementing HR systems and processes. The ideal candidate should have a strong technical background and experience in HR systems.\"\n",
    "associate,Consultant (associate or analyst),Associate Consultant,\"Join our consulting team as an Associate Consultant and assist in delivering high-quality solutions to our clients. This role requires strong analytical and problem-solving skills.\"\n",
    "analyst,manager,Business Analyst Manager,\"As a Business Analyst Manager, you will lead a team of analysts and work closely with stakeholders to gather and analyze business requirements. The candidate should have strong analytical and leadership skills.\"\n",
    "SDE1,manager,Software Development Engineer I,\"We are seeking a talented Software Development Engineer to join our team. The ideal candidate should have strong programming skills and be able to contribute to the development of our software products.\"\n",
    "SDE2,engineering,Software Development Engineer II,\"We are looking for a highly skilled Software Development Engineer to work on complex software solutions. The candidate should have a deep understanding of software engineering principles and be able to design and implement scalable applications.\"\n",
    "entry/intern,customer success/support,Entry Level Customer Success Associate,\"We are hiring an Entry Level Customer Success Associate to assist our customers with product onboarding and provide technical support. This is a great opportunity for recent graduates looking to gain experience in customer success.\"\n",
    "manager,HR,HR Manager,\"As an HR Manager, you will be responsible for overseeing all aspects of human resources within our organization. This includes recruitment, employee relations, performance management, and compliance.\"\n",
    "sales,Consultant (associate or analyst),Sales Consultant,\"Join our team as a Sales Consultant and help drive revenue growth. The ideal candidate should have excellent communication skills and a strong sales background.\"\n",
    "customer support,manager,Customer Support Manager,\"We are seeking a Customer Support Manager to lead our support team and ensure customer satisfaction. The candidate should have experience in managing a customer support department.\"\n",
    "HR,engineering,HR Engineering Specialist,\"As an HR Engineering Specialist, you will be responsible for developing and implementing HR systems and processes. The ideal candidate should have a strong technical background and experience in HR systems.\"\n",
    "associate,Consultant (associate or analyst),Associate Consultant,\"Join our consulting team as an Associate Consultant and assist in delivering high-quality solutions to our clients. This role requires strong analytical and problem-solving skills.\"\n",
    "analyst,manager,Business Analyst Manager,\"As a Business Analyst Manager, you will lead a team of analysts and work closely with stakeholders to gather and analyze business requirements. The candidate should have strong analytical and leadership skills.\"\n",
    "SDE1,manager,Software Development Engineer I,\"We are seeking a talented Software Development Engineer to join our team. The ideal candidate should have strong programming skills and be able to contribute to the development of our software products.\"\n",
    "SDE2,engineering,Software Development Engineer II,\"We are looking for a highly skilled Software Development Engineer to work on complex software solutions. The candidate should have a deep understanding of software engineering principles and be able to design and implement scalable applications.\"\n",
    "entry/intern,customer success/support,Entry Level Customer Success Associate,\"We are hiring an Entry Level Customer Success Associate to assist our customers with product onboarding and provide technical support. This is a great opportunity for recent graduates looking to gain experience in customer success.\"\n",
    "manager,HR,HR Manager,\"As an HR Manager, you will be responsible for overseeing all aspects of human resources within our organization. This includes recruitment, employee relations, performance management, and compliance.\"\n",
    "sales,Consultant (associate or analyst),Sales Consultant,\"Join our team as a Sales Consultant and help drive revenue growth. The ideal candidate should have excellent communication skills and a strong sales background.\"\n",
    "customer support,manager,Customer Support Manager,\"We are seeking a Customer Support Manager to lead our support team and ensure customer satisfaction. The candidate should have experience in managing a customer support department.\"\n",
    "HR,engineering,HR Engineering Specialist,\"As an HR Engineering Specialist, you will be responsible for developing and implementing HR systems and processes. The ideal candidate should have a strong technical background and experience in HR systems.\"\n",
    "associate,Consultant (associate or analyst),Associate Consultant,\"Join our consulting team as an Associate Consultant and assist in delivering high-quality solutions to our clients. This role requires strong analytical and problem-solving skills.\"\n",
    "analyst,manager,Business Analyst Manager,\"As a Business Analyst Manager, you will lead a team of analysts and work closely with stakeholders to gather and analyze business requirements. The candidate should have strong analytical and leadership skills.\"\n",
    "SDE1,manager,Software Development Engineer I,\"We are seeking a talented Software Development Engineer to join our team. The ideal candidate should have strong programming skills and be able to contribute to the development of our software products.\"\n",
    "SDE2,engineering,Software Development Engineer II,\"We are looking for a highly skilled Software Development Engineer to work on complex software solutions. The candidate should have a deep understanding of software engineering principles and be able to design and implement scalable applications.\"\n",
    "entry/intern,customer success/support,Entry Level Customer Success Associate,\"We are hiring an Entry Level Customer Success Associate to assist our customers with product onboarding and provide technical support. This is a great opportunity for recent graduates looking to gain experience in customer success.\"\n",
    "manager,HR,HR Manager,\"As an HR Manager, you will be responsible for overseeing all aspects of human resources within our organization. This includes recruitment, employee relations, performance management, and compliance.\"\n",
    "sales,Consultant (associate or analyst),Sales Consultant,\"Join our team as a Sales Consultant and help drive revenue growth. The ideal candidate should have excellent communication skills and a strong sales background.\"\n",
    "customer support,manager,Customer Support Manager,\"We are seeking a Customer Support Manager to lead our support team and ensure customer satisfaction. The candidate should have experience in managing a customer support department.\"\n",
    "HR,engineering,HR Engineering Specialist,\"As an HR Engineering Specialist, you will be responsible for developing and implementing HR systems and processes. The ideal candidate should have a strong technical background and experience in HR systems.\"\n",
    "associate,Consultant (associate or analyst),Associate Consultant,\"Join our consulting team as an Associate Consultant and assist in delivering high-quality solutions to our clients. This role requires strong analytical and problem-solving skills.\"\n",
    "analyst,manager,Business Analyst Manager,\"As a Business Analyst Manager, you will lead a team of analysts and work closely with stakeholders to gather and analyze business requirements. The candidate should have strong analytical and leadership skills.\"\n",
    "\n",
    "Give me Description of jobs where category is HR and grade is Manager\n",
    "\n",
    "\"\"\")\n",
    "    ]\n",
    ")\n"
   ]
  },
  {
   "cell_type": "code",
   "execution_count": 66,
   "id": "54d32f8c",
   "metadata": {},
   "outputs": [
    {
     "name": "stdout",
     "output_type": "stream",
     "text": [
      "1. HR Manager:\n",
      "   - As an HR Manager, you will be responsible for overseeing all aspects of human resources within our organization. This includes recruitment, employee relations, performance management, and compliance.\n",
      "\n",
      "2. HR Engineering Specialist:\n",
      "   - As an HR Engineering Specialist, you will be responsible for developing and implementing HR systems and processes. The ideal candidate should have a strong technical background and experience in HR systems.\n"
     ]
    }
   ],
   "source": [
    "res=res.content.split(sep='\\n')\n",
    "for s in res:\n",
    "    print(s)"
   ]
  },
  {
   "cell_type": "code",
   "execution_count": 5,
   "id": "fe7ef4f1",
   "metadata": {},
   "outputs": [
    {
     "name": "stdout",
     "output_type": "stream",
     "text": [
      "Collecting python-dotenv\n",
      "  Downloading python_dotenv-1.0.0-py3-none-any.whl (19 kB)\n",
      "Installing collected packages: python-dotenv\n",
      "Successfully installed python-dotenv-1.0.0\n",
      "Note: you may need to restart the kernel to use updated packages.\n"
     ]
    },
    {
     "name": "stderr",
     "output_type": "stream",
     "text": [
      "WARNING: You are using pip version 21.2.3; however, version 23.2 is available.\n",
      "You should consider upgrading via the 'C:\\Program Files\\Python310\\python.exe -m pip install --upgrade pip' command.\n"
     ]
    }
   ],
   "source": [
    "pip install python-dotenv"
   ]
  },
  {
   "cell_type": "code",
   "execution_count": 6,
   "id": "b78e87dd",
   "metadata": {},
   "outputs": [],
   "source": [
    "%load_ext dotenv"
   ]
  },
  {
   "cell_type": "code",
   "execution_count": 7,
   "id": "76d0f6e8",
   "metadata": {},
   "outputs": [],
   "source": [
    "%dotenv"
   ]
  },
  {
   "cell_type": "code",
   "execution_count": null,
   "id": "30caa19e",
   "metadata": {},
   "outputs": [],
   "source": []
  }
 ],
 "metadata": {
  "kernelspec": {
   "display_name": "Python 3 (ipykernel)",
   "language": "python",
   "name": "python3"
  },
  "language_info": {
   "codemirror_mode": {
    "name": "ipython",
    "version": 3
   },
   "file_extension": ".py",
   "mimetype": "text/x-python",
   "name": "python",
   "nbconvert_exporter": "python",
   "pygments_lexer": "ipython3",
   "version": "3.10.0"
  }
 },
 "nbformat": 4,
 "nbformat_minor": 5
}
